{
 "cells": [
  {
   "cell_type": "markdown",
   "id": "d699c9c9",
   "metadata": {},
   "source": [
    "# Mapeamento de Empresas\n",
    "\n",
    "O código em questão busca mapear as empresas relacionadas as tags que forem inseridas na busca"
   ]
  },
  {
   "cell_type": "code",
   "execution_count": null,
   "id": "8aa6556c",
   "metadata": {},
   "outputs": [],
   "source": [
    "from selenium import webdriver\n",
    "from selenium.webdriver.chrome.service import Service\n",
    "from webdriver_manager.chrome import ChromeDriverManager\n",
    "from selenium.webdriver.common.by import By\n",
    "from selenium.webdriver.common.keys import Keys\n",
    "import pandas as pd\n",
    "import time"
   ]
  },
  {
   "cell_type": "code",
   "execution_count": null,
   "id": "26cf6438",
   "metadata": {},
   "outputs": [],
   "source": [
    "#Armazenando o número de inputs que serão coletados\n",
    "n_tags = input('Indique o número de tags que você irá buscar: ')"
   ]
  },
  {
   "cell_type": "markdown",
   "id": "c067322c",
   "metadata": {},
   "source": [
    "### Tags\n",
    "Para inserir as tags, lembre-se de que a pesquisa é feita através do Google Search, use isso à seu favor melhorando os resultados de busca através das expressões de busca avançada (basicamente '+', para acrescentar, e '-', para subtrair resultados indesejáveis)"
   ]
  },
  {
   "cell_type": "code",
   "execution_count": null,
   "id": "c1b44184",
   "metadata": {},
   "outputs": [],
   "source": [
    "lista_de_tags = []\n",
    "for i in range(int(n_tags)):\n",
    "    tag = input('Insira sua tag, uma por vez: ')\n",
    "    lista_de_tags.append(tag)\n",
    "print('Tags {} adicionadas à lista de pesquisa'.format(lista_de_tags))"
   ]
  },
  {
   "cell_type": "code",
   "execution_count": null,
   "id": "6066872e",
   "metadata": {},
   "outputs": [],
   "source": [
    "#Criando o navegador\n",
    "servico = Service(ChromeDriverManager().install())\n",
    "navegador = webdriver.Chrome(service=servico)"
   ]
  },
  {
   "cell_type": "code",
   "execution_count": null,
   "id": "71d928d5",
   "metadata": {},
   "outputs": [],
   "source": [
    "linkedin_link = []\n",
    "\n",
    "for i in range(len(lista_de_tags)):\n",
    "\n",
    "    #Abrindo o navegador e realizando a pesquisa\n",
    "    navegador.get(\"https://www.google.com.br/\")\n",
    "    navegador.find_element(By.CLASS_NAME, 'gLFyf').click()\n",
    "    navegador.find_element(By.CLASS_NAME, 'gLFyf').send_keys(lista_de_tags[i],' site:https://www.linkedin.com/company/')\n",
    "    navegador.find_element(By.CLASS_NAME, 'gLFyf').send_keys(Keys.RETURN)\n",
    "    \n",
    "    #Armazenando links\n",
    "    ##Caso seja desejável mapear até certo número de páginas, criar condição no while e lembrar de iterar a variável\n",
    "    aux = 1\n",
    "    while aux:\n",
    "        elementos_google = navegador.find_elements(By.CLASS_NAME, 'yuRUbf')\n",
    "\n",
    "        for elemento in elementos_google:\n",
    "            link = elemento.find_element(By.TAG_NAME, 'a').get_attribute('href')\n",
    "            linkedin_link.append(link)\n",
    "\n",
    "    ##Passador de páginas    \n",
    "        try:\n",
    "            navegador.find_element(By.XPATH, '//*[@id=\"pnnext\"]/span[2]').click()\n",
    "        except:\n",
    "            break"
   ]
  },
  {
   "cell_type": "markdown",
   "id": "2e6a43ea",
   "metadata": {},
   "source": [
    "### Login no Linkedin\n",
    "Para que o código funcione de maneira apropriada, entre no navegador criado, faça o login com sua conta no Linkedin e pressione qualquer tecla no input a seguir"
   ]
  },
  {
   "cell_type": "code",
   "execution_count": null,
   "id": "fd4104d1",
   "metadata": {},
   "outputs": [],
   "source": [
    "input('Podemos prosseguir para a coleta de dados? ')"
   ]
  },
  {
   "cell_type": "code",
   "execution_count": null,
   "id": "1b8829bc",
   "metadata": {},
   "outputs": [],
   "source": [
    "lista_empresas = []\n",
    "links_site = []\n",
    "\n",
    "for i in range(len(linkedin_link)):\n",
    "    link_aux = linkedin_link[i] + '/about/'\n",
    "    navegador.get(link_aux)\n",
    "    try:\n",
    "        navegador.find_element(By.LINK_TEXT, 'Sobre').click()\n",
    "    except:\n",
    "        pass\n",
    "    \n",
    "    try:\n",
    "        nome = navegador.find_element(By.TAG_NAME, 'h1').text\n",
    "        lista_empresas.append(nome)\n",
    "    except:\n",
    "        lista_empresas.append('')\n",
    "    \n",
    "    time.sleep(1)\n",
    "    \n",
    "    site_aux = navegador.find_element(By.CLASS_NAME, 'overflow-hidden')\n",
    "    try:\n",
    "        href_links = site_aux.find_element(By.TAG_NAME, 'a').get_attribute('href')\n",
    "        links_site.append(href_links)\n",
    "    except:\n",
    "        links_site.append('')"
   ]
  },
  {
   "cell_type": "markdown",
   "id": "04ab2ca1",
   "metadata": {},
   "source": [
    "### Limpeza de URL's quebradas\n",
    "Caso exista algum link de uma página excluída do Linkedin, o código acima dará erro.\n",
    "A página de erro será a que estará no navegador criado.\n",
    "Para limpá-lo da lista de links copie a linha abaixo em um campo de código\n",
    "linkedin_link.remove('url da página de erro, menos o \"/about/\"')"
   ]
  },
  {
   "cell_type": "code",
   "execution_count": null,
   "id": "da01dc28",
   "metadata": {},
   "outputs": [],
   "source": [
    "#Criando DataFrame com os dados coletados\n",
    "dados = {'Empresa':  lista_empresas,\n",
    "        'Linkedin': linkedin_link,\n",
    "        'Site': links_site\n",
    "        }\n",
    "\n",
    "df = pd.DataFrame(dados)"
   ]
  },
  {
   "cell_type": "code",
   "execution_count": null,
   "id": "af60a057",
   "metadata": {},
   "outputs": [],
   "source": [
    "#Visualizando o Dataframe\n",
    "df"
   ]
  },
  {
   "cell_type": "code",
   "execution_count": null,
   "id": "b82f3173",
   "metadata": {},
   "outputs": [],
   "source": [
    "#Excluindo duplicatas\n",
    "df2 = df.drop_duplicates(keep='first')"
   ]
  },
  {
   "cell_type": "code",
   "execution_count": null,
   "id": "9433a2c1",
   "metadata": {},
   "outputs": [],
   "source": [
    "#Visualizando novo Dataframe\n",
    "df2"
   ]
  },
  {
   "cell_type": "code",
   "execution_count": null,
   "id": "0406f2f9",
   "metadata": {},
   "outputs": [],
   "source": [
    "#Exportando Dataframe em formato xlsx\n",
    "nome_arquivo = 'Mapeamento de empresas.xlsx'\n",
    "df2.to_excel(nome_arquivo)"
   ]
  }
 ],
 "metadata": {
  "kernelspec": {
   "display_name": "Python 3 (ipykernel)",
   "language": "python",
   "name": "python3"
  },
  "language_info": {
   "codemirror_mode": {
    "name": "ipython",
    "version": 3
   },
   "file_extension": ".py",
   "mimetype": "text/x-python",
   "name": "python",
   "nbconvert_exporter": "python",
   "pygments_lexer": "ipython3",
   "version": "3.9.12"
  }
 },
 "nbformat": 4,
 "nbformat_minor": 5
}
